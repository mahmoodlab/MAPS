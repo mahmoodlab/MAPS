{
 "cells": [
  {
   "cell_type": "code",
   "execution_count": 1,
   "metadata": {
    "collapsed": true,
    "ExecuteTime": {
     "end_time": "2023-08-28T19:23:40.788746181Z",
     "start_time": "2023-08-28T19:23:38.169178756Z"
    }
   },
   "outputs": [],
   "source": [
    "import os\n",
    "import sys\n",
    "import numpy as np\n",
    "import pandas as pd\n",
    "import matplotlib.pyplot as plt\n",
    "\n",
    "sys.path.append('../../')\n",
    "from utils import conf_matrix, accuracy_plots, performance_plots, micro_average_pr_curve, average_pr_curve_per_class"
   ]
  },
  {
   "cell_type": "code",
   "execution_count": 3,
   "outputs": [],
   "source": [
    "cHL2_MIBI_dataset_dir = '~/MAPS/cHL2_MIBI/datasets/'\n",
    "cHL2_MIBI_class_names = pd.read_csv(os.path.join(cHL2_MIBI_dataset_dir, 'class_names.csv'))\n",
    "cHL2_MIBI_marker_names = pd.read_csv(os.path.join(cHL2_MIBI_dataset_dir, 'marker_names.csv'))['marker_name'].tolist()\n",
    "\n",
    "cHL1_MIBI_dataset_dir = '~/MAPS/cHL1_MIBI/datasets/'\n",
    "cHL1_MIBI_class_names = pd.read_csv(os.path.join(cHL1_MIBI_dataset_dir, 'class_names.csv'))\n",
    "cHL1_MIBI_marker_names = pd.read_csv(os.path.join(cHL1_MIBI_dataset_dir, 'marker_names.csv'))['marker_name'].tolist()\n",
    "\n",
    "color_palette =['#bed8d9', '#2bb8b2', '#fed53f', '#f98866', '#fe0000']\n",
    "result_dir = '~/ASTIR/results/cHL1_MIBI_cHL2_MIBI/'"
   ],
   "metadata": {
    "collapsed": false,
    "ExecuteTime": {
     "end_time": "2023-08-28T19:25:21.320432610Z",
     "start_time": "2023-08-28T19:25:20.906702580Z"
    }
   }
  },
  {
   "cell_type": "markdown",
   "source": [
    "## Class Mapping"
   ],
   "metadata": {
    "collapsed": false
   }
  },
  {
   "cell_type": "code",
   "execution_count": 4,
   "outputs": [],
   "source": [
    "cHL2_MIBI_id_to_class_name_mapping = {}\n",
    "cHL2_MIBI_class_to_id_name_mapping = {}\n",
    "for i, row in cHL2_MIBI_class_names.iterrows():\n",
    "    cHL2_MIBI_id_to_class_name_mapping[row['class_id']]=row['class_name']\n",
    "    cHL2_MIBI_class_to_id_name_mapping[row['class_name']]=row['class_id']\n",
    "\n",
    "cHL1_MIBI_id_name_to_class_mapping = {}\n",
    "cHL1_MIBI_class_name_to_id_mapping = {}\n",
    "for i, row in cHL1_MIBI_class_names.iterrows():\n",
    "    cHL1_MIBI_id_name_to_class_mapping[row['class_id']]=row['class_name']\n",
    "    cHL1_MIBI_class_name_to_id_mapping[row['class_name']]=row['class_id']\n",
    "\n",
    "cHL2_MIBI_to_cHL1_MIBI_class_name_mapping = {'B': 'B', 'CD4 T': 'CD4', 'CD8 T': 'CD8', 'DC': 'DC', 'Endothelial': 'Endothelial', 'M1': 'M1', 'M2': 'M2', 'NK': 'NK', 'Neutrophil': 'Neutrophil', 'Other': 'Other', 'CD4 Treg': 'Treg', 'Tumor': 'Tumor'}\n",
    "cHL1_MIBI_to_cHL2_MIBI_class_name_mapping = {'B': 'B', 'CD4': 'CD4 T', 'CD8': 'CD8 T', 'Cytotoxic CD4': 'CD4 T', 'DC': 'DC', 'Endothelial': 'Endothelial', 'M1': 'M1', 'M2': 'M2', 'NK': 'NK', 'Neutrophil': 'Neutrophil', 'Other': 'Other', 'Treg': 'CD4 Treg', 'Tumor': 'Tumor'}\n",
    "\n",
    "cHL2_MIBI_to_cHL1_MIBI_class_id_mapping = {}\n",
    "for key in cHL2_MIBI_to_cHL1_MIBI_class_name_mapping.keys():\n",
    "    cHL2_MIBI_class_id = cHL2_MIBI_class_to_id_name_mapping[key]\n",
    "    cHL1_MIBI_class_id = cHL1_MIBI_class_name_to_id_mapping[cHL2_MIBI_to_cHL1_MIBI_class_name_mapping[key]]\n",
    "    cHL2_MIBI_to_cHL1_MIBI_class_id_mapping[cHL2_MIBI_class_id] = cHL1_MIBI_class_id\n",
    "\n",
    "cHL1_MIBI_to_cHL2_MIBI_class_id_mapping = {}\n",
    "for key in cHL1_MIBI_to_cHL2_MIBI_class_name_mapping.keys():\n",
    "    cHL1_MIBI_class_id = cHL1_MIBI_class_name_to_id_mapping[key]\n",
    "    cHL2_MIBI_class_id = cHL2_MIBI_class_to_id_name_mapping[cHL1_MIBI_to_cHL2_MIBI_class_name_mapping[key]]\n",
    "    cHL1_MIBI_to_cHL2_MIBI_class_id_mapping[cHL1_MIBI_class_id] = cHL2_MIBI_class_id"
   ],
   "metadata": {
    "collapsed": false,
    "ExecuteTime": {
     "end_time": "2023-08-28T19:25:26.491364588Z",
     "start_time": "2023-08-28T19:25:26.452124657Z"
    }
   }
  },
  {
   "cell_type": "markdown",
   "source": [
    "## Prediction on cHL2_MIBI Dataset using cHL1_MIBI Model"
   ],
   "metadata": {
    "collapsed": false
   }
  },
  {
   "cell_type": "code",
   "execution_count": 8,
   "outputs": [],
   "source": [
    "class_names = cHL2_MIBI_class_names['class_name'].tolist()\n",
    "res_df_cols = ['%s_prob' % class_name for class_name in class_names]\n",
    "res_df_cols.append('pred_label')\n",
    "res_df_cols.append('gt_label')\n",
    "\n",
    "fold_count = 5\n",
    "for i in range(fold_count):\n",
    "    train_data_path = os.path.join(result_dir, 'fold_%d' % i, 'results_train.csv')\n",
    "    valid_data_path = os.path.join(result_dir, 'fold_%d' % i, 'results_valid.csv')\n",
    "    test_data_path = os.path.join(result_dir, 'fold_%d' % i, 'results_test.csv')\n",
    "    \n",
    "    df = pd.concat([pd.read_csv(train_data_path), pd.read_csv(valid_data_path), pd.read_csv(test_data_path)])\n",
    "    pred_labels = df['pred_label'].to_numpy()\n",
    "    gt_labels = df['gt_label'].to_numpy()\n",
    "    df.drop(columns=['pred_label', 'gt_label'], inplace=True)\n",
    "    pred_probs = df.to_numpy()\n",
    "    cHL2_MIBI_pred_labels = np.zeros((pred_probs.shape[0],))-1\n",
    "    cHL2_MIBI_pred_probs = np.zeros((pred_probs.shape[0], cHL2_MIBI_class_names.shape[0]))\n",
    "    for key in cHL1_MIBI_to_cHL2_MIBI_class_id_mapping.keys():\n",
    "        cHL1_MIBI_class_id = key\n",
    "        cHL2_MIBI_class_id = cHL1_MIBI_to_cHL2_MIBI_class_id_mapping[key]\n",
    "        cHL2_MIBI_pred_probs[:, cHL2_MIBI_class_id] =  pred_probs[:, cHL1_MIBI_class_id]\n",
    "\n",
    "        I = pred_labels==cHL1_MIBI_class_id\n",
    "        cHL2_MIBI_pred_labels[I] = cHL2_MIBI_class_id\n",
    "\n",
    "    gt_labels = np.expand_dims(gt_labels, axis=1)\n",
    "    cHL2_MIBI_pred_labels = np.expand_dims(cHL2_MIBI_pred_labels, axis=1)\n",
    "    res_df = pd.DataFrame(np.concatenate((cHL2_MIBI_pred_probs, cHL2_MIBI_pred_labels, gt_labels), axis=1), columns=res_df_cols)\n",
    "    os.makedirs(os.path.join(result_dir, 'fold_%d' % i), exist_ok=True)\n",
    "    res_df.to_csv(os.path.join(result_dir, 'fold_%d' % i, 'results_cHL2_MIBI.csv'), index=False)"
   ],
   "metadata": {
    "collapsed": false,
    "ExecuteTime": {
     "end_time": "2023-08-28T19:40:38.940837001Z",
     "start_time": "2023-08-28T19:40:19.888699310Z"
    }
   }
  },
  {
   "cell_type": "markdown",
   "source": [
    "## Evaluation"
   ],
   "metadata": {
    "collapsed": false
   }
  },
  {
   "cell_type": "code",
   "execution_count": 9,
   "outputs": [],
   "source": [
    "class_name_csv_path = '~/MAPS/cHL2_MIBI/datasets/class_names.csv'\n",
    "result_csv_name = '~/ASTIR/results_cHL2_MIBI.csv'\n",
    "\n",
    "class_names_all = ['B', 'CD4 T', 'CD4 CTL', 'CD8 T', 'DC', 'Endothelial', 'M1', 'M2', 'NK', 'Neutrophil', 'Other', 'Treg', 'Tumor', 'Epithelial', 'Granulocyte', 'Lymphatic', 'Mast', 'Monocyte', 'Macrophage', 'Plasma Cell', 'Smooth Muscle', 'Stroma']\n",
    "\n",
    "class_name_mapping = {\n",
    "    \"B\": \"B\",\n",
    "    \"CD4 T\": \"CD4 T\",\n",
    "    \"CD4 Treg\": \"Treg\",\n",
    "    \"CD8 T\": \"CD8 T\",\n",
    "    \"DC\": \"DC\",\n",
    "    \"Endothelial\": \"Endothelial\",\n",
    "    \"M1\": \"M1\",\n",
    "    \"M2\": \"M2\",\n",
    "    \"NK\": \"NK\",\n",
    "    \"Neutrophil\": \"Neutrophil\",\n",
    "    \"Other\": \"Other\",\n",
    "    \"Tumor\": \"Tumor\"\n",
    "}\n",
    "\n",
    "color_palette =['#bed8d9', '#2bb8b2', '#fed53f', '#f98866', '#fe0000']\n",
    "\n",
    "class_ids = pd.read_csv(class_name_csv_path)['class_id'].tolist()\n",
    "class_names = pd.read_csv(class_name_csv_path)['class_name'].tolist()\n",
    "class_names = [class_name_mapping[c_name] for c_name in class_names]\n",
    "\n",
    "class_id_mapping = []\n",
    "class_names_ordered = []\n",
    "for i, c_name in enumerate(class_names_all):\n",
    "    if c_name in class_names:\n",
    "        class_names_ordered.append(c_name)\n",
    "        class_id_mapping.append(class_ids[class_names.index(c_name)])"
   ],
   "metadata": {
    "collapsed": false,
    "ExecuteTime": {
     "end_time": "2023-08-28T19:44:30.719975838Z",
     "start_time": "2023-08-28T19:44:30.362902693Z"
    }
   }
  },
  {
   "cell_type": "markdown",
   "source": [
    "### Quantitative Results"
   ],
   "metadata": {
    "collapsed": false
   }
  },
  {
   "cell_type": "code",
   "execution_count": null,
   "outputs": [],
   "source": [
    "conf_matrix(result_dir, [0, 1, 2, 3, 4], class_names_ordered[:], class_id_mapping, result_csv_name=result_csv_name)\n",
    "accuracy_plots(result_dir, [0, 1, 2, 3, 4], class_names_ordered[:], class_id_mapping, color_palette, result_csv_name=result_csv_name)\n",
    "performance_plots(result_dir, [0, 1, 2, 3, 4], class_names_ordered[:], class_id_mapping, color_palette, result_csv_name=result_csv_name)\n",
    "micro_average_pr_curve(result_dir, [0, 1, 2, 3, 4], class_names_ordered[:], class_id_mapping, result_csv_name=result_csv_name)\n",
    "average_pr_curve_per_class(result_dir, [0, 1, 2, 3, 4], class_names_ordered[:], class_id_mapping, plt.get_cmap('tab20').colors, result_csv_name=result_csv_name)"
   ],
   "metadata": {
    "collapsed": false
   }
  }
 ],
 "metadata": {
  "kernelspec": {
   "display_name": "Python 3",
   "language": "python",
   "name": "python3"
  },
  "language_info": {
   "codemirror_mode": {
    "name": "ipython",
    "version": 2
   },
   "file_extension": ".py",
   "mimetype": "text/x-python",
   "name": "python",
   "nbconvert_exporter": "python",
   "pygments_lexer": "ipython2",
   "version": "2.7.6"
  }
 },
 "nbformat": 4,
 "nbformat_minor": 0
}
