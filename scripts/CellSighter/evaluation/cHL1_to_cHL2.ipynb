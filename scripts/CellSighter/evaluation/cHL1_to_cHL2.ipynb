{
 "cells": [
  {
   "cell_type": "code",
   "execution_count": 1,
   "id": "initial_id",
   "metadata": {
    "collapsed": true,
    "ExecuteTime": {
     "end_time": "2023-09-01T14:17:24.809019963Z",
     "start_time": "2023-09-01T14:17:24.031368919Z"
    }
   },
   "outputs": [],
   "source": [
    "import os\n",
    "import sys\n",
    "import numpy as np\n",
    "import pandas as pd\n",
    "sys.path.append('../../')\n",
    "from utils import *"
   ]
  },
  {
   "cell_type": "code",
   "execution_count": 2,
   "outputs": [],
   "source": [
    "cHL2_MIBI_dataset_dir = '~/MAPS/cHL2_MIBI/datasets/'\n",
    "cHL2_MIBI_class_names = pd.read_csv(os.path.join(cHL2_MIBI_dataset_dir, 'class_names.csv'))\n",
    "\n",
    "cHL1_MIBI_dataset_dir = '~/MAPS/cHL1_MIBI/datasets/'\n",
    "cHL1_MIBI_class_names = pd.read_csv(os.path.join(cHL1_MIBI_dataset_dir, 'class_names.csv'))\n",
    "\n",
    "color_palette =['#bed8d9', '#2bb8b2', '#fed53f', '#f98866', '#fe0000']\n",
    "\n",
    "result_dir = '~/CellSighter/results/cHL1_MIBI_cHL2_MIBI/'"
   ],
   "metadata": {
    "collapsed": false,
    "ExecuteTime": {
     "end_time": "2023-09-01T14:17:24.968448324Z",
     "start_time": "2023-09-01T14:17:24.813920531Z"
    }
   },
   "id": "623111dbeaaea4b5"
  },
  {
   "cell_type": "code",
   "execution_count": 3,
   "outputs": [],
   "source": [
    "cHL2_MIBI_id_to_class_name_mapping = {}\n",
    "cHL2_MIBI_class_to_id_name_mapping = {}\n",
    "for i, row in cHL2_MIBI_class_names.iterrows():\n",
    "    cHL2_MIBI_id_to_class_name_mapping[row['class_id']]=row['class_name']\n",
    "    cHL2_MIBI_class_to_id_name_mapping[row['class_name']]=row['class_id']\n",
    "\n",
    "cHL1_MIBI_id_name_to_class_mapping = {}\n",
    "cHL1_MIBI_class_name_to_id_mapping = {}\n",
    "for i, row in cHL1_MIBI_class_names.iterrows():\n",
    "    cHL1_MIBI_id_name_to_class_mapping[row['class_id']]=row['class_name']\n",
    "    cHL1_MIBI_class_name_to_id_mapping[row['class_name']]=row['class_id']\n",
    "\n",
    "cHL2_MIBI_to_cHL1_MIBI_class_name_mapping = {'B': 'B', 'CD4 T': 'CD4', 'CD8 T': 'CD8', 'DC': 'DC', 'Endothelial': 'Endothelial', 'M1': 'M1', 'M2': 'M2', 'NK': 'NK', 'Neutrophil': 'Neutrophil', 'Other': 'Other', 'CD4 Treg': 'Treg', 'Tumor': 'Tumor'}\n",
    "cHL1_MIBI_to_cHL2_MIBI_class_name_mapping = {'B': 'B', 'CD4': 'CD4 T', 'CD8': 'CD8 T', 'Cytotoxic CD4': 'CD4 T', 'DC': 'DC', 'Endothelial': 'Endothelial', 'M1': 'M1', 'M2': 'M2', 'NK': 'NK', 'Neutrophil': 'Neutrophil', 'Other': 'Other', 'Treg': 'CD4 Treg', 'Tumor': 'Tumor'}\n",
    "\n",
    "cHL2_MIBI_to_cHL1_MIBI_class_id_mapping = {}\n",
    "for key in cHL2_MIBI_to_cHL1_MIBI_class_name_mapping.keys():\n",
    "    cHL2_MIBI_class_id = cHL2_MIBI_class_to_id_name_mapping[key]\n",
    "    cHL1_MIBI_class_id = cHL1_MIBI_class_name_to_id_mapping[cHL2_MIBI_to_cHL1_MIBI_class_name_mapping[key]]\n",
    "    cHL2_MIBI_to_cHL1_MIBI_class_id_mapping[cHL2_MIBI_class_id] = cHL1_MIBI_class_id\n",
    "\n",
    "cHL1_MIBI_to_cHL2_MIBI_class_id_mapping = {}\n",
    "for key in cHL1_MIBI_to_cHL2_MIBI_class_name_mapping.keys():\n",
    "    cHL1_MIBI_class_id = cHL1_MIBI_class_name_to_id_mapping[key]\n",
    "    cHL2_MIBI_class_id = cHL2_MIBI_class_to_id_name_mapping[cHL1_MIBI_to_cHL2_MIBI_class_name_mapping[key]]\n",
    "    cHL1_MIBI_to_cHL2_MIBI_class_id_mapping[cHL1_MIBI_class_id] = cHL2_MIBI_class_id"
   ],
   "metadata": {
    "collapsed": false,
    "ExecuteTime": {
     "end_time": "2023-09-01T14:17:24.974661621Z",
     "start_time": "2023-09-01T14:17:24.819544172Z"
    }
   },
   "id": "3e8755bfbdd12caf"
  },
  {
   "cell_type": "code",
   "execution_count": 4,
   "outputs": [],
   "source": [
    "class_ids = {\"0\":\"0\", \"1\": \"1\", \"2\": \"1\", \"3\": \"2\", \"4\": \"3\", \"5\": \"4\", \"6\": \"5\", \"7\": \"6\", \"8\": \"7\", \"9\": \"9\", \"10\": \"8\", \"11\":\"10\", \"12\": \"1\", \"13\": \"11\"}\n",
    "\n",
    "class_names = pd.read_csv(os.path.join(cHL1_MIBI_dataset_dir, 'class_names.csv'))['class_name'].tolist()\n",
    "res_df_cols = ['%s_prob' % class_name for class_name in cHL2_MIBI_class_names['class_name'].tolist()]\n",
    "res_df_cols.append('pred_label')\n",
    "res_df_cols.append('gt_label')\n",
    "for fid in range(5):\n",
    "    res = pd.read_csv(os.path.join(result_dir, 'fold_%d' % fid, 'results_cHL2_MIBI.csv'))\n",
    "    gt_labels = [int(class_ids[str(label)]) for label in res['gt_labels'].tolist()]\n",
    "    pred_labels = res['pred_labels'].to_numpy()\n",
    "    pred_probs = res['pred_probs'].tolist()\n",
    "    probs = np.zeros((len(pred_probs), len(class_names)))\n",
    "    for i in range(len(pred_probs)):\n",
    "        probs[i, :] = [np.float64(value) for value in pred_probs[i][1:-1].split(',')]\n",
    "    \n",
    "    pred_probs = probs\n",
    "    cHL2_MIBI_pred_labels = np.zeros((pred_probs.shape[0],))-1\n",
    "    cHL2_MIBI_pred_probs = np.zeros((pred_probs.shape[0], cHL2_MIBI_class_names.shape[0]))\n",
    "    for key in cHL1_MIBI_to_cHL2_MIBI_class_id_mapping.keys():\n",
    "        cHL1_MIBI_class_id = key\n",
    "        cHL2_MIBI_class_id = cHL1_MIBI_to_cHL2_MIBI_class_id_mapping[key]\n",
    "        cHL2_MIBI_pred_probs[:, cHL2_MIBI_class_id] =  pred_probs[:, cHL1_MIBI_class_id]\n",
    "\n",
    "        I = pred_labels==cHL1_MIBI_class_id\n",
    "        cHL2_MIBI_pred_labels[I] = cHL2_MIBI_class_id\n",
    "\n",
    "    gt_labels = np.expand_dims(gt_labels, axis=1)\n",
    "    cHL2_MIBI_pred_labels = np.expand_dims(cHL2_MIBI_pred_labels, axis=1)\n",
    "    res_df = pd.DataFrame(np.concatenate((cHL2_MIBI_pred_probs, cHL2_MIBI_pred_labels, gt_labels), axis=1), columns=res_df_cols)\n",
    "    os.makedirs(os.path.join(result_dir, 'fold_%d' % fid), exist_ok=True)\n",
    "    res_df.to_csv(os.path.join(result_dir, 'fold_%d' % fid, 'results_cHL2_MIBI_refined.csv'), index=False)"
   ],
   "metadata": {
    "collapsed": false,
    "ExecuteTime": {
     "end_time": "2023-09-01T14:17:53.772735429Z",
     "start_time": "2023-09-01T14:17:24.839449324Z"
    }
   },
   "id": "eac5fd84b9da4dd8"
  },
  {
   "cell_type": "code",
   "execution_count": 5,
   "outputs": [],
   "source": [
    "class_names_all = ['B', 'CD4 T', 'CD4 CTL', 'CD8 T', 'DC', 'Endothelial', 'M1', 'M2', 'NK', 'Neutrophil', 'Other', 'Treg', 'Tumor', 'Epithelial', 'Granulocyte', 'Lymphatic', 'Mast', 'Monocyte', 'Macrophage', 'Plasma Cell', 'Smooth Muscle', 'Stroma']\n",
    "\n",
    "class_name_mapping = {\n",
    "    \"B\": \"B\",\n",
    "    \"CD4 T\": \"CD4 T\",\n",
    "    \"CD4 Treg\": \"Treg\",\n",
    "    \"CD8 T\": \"CD8 T\",\n",
    "    \"DC\": \"DC\",\n",
    "    \"Endothelial\": \"Endothelial\",\n",
    "    \"M1\": \"M1\",\n",
    "    \"M2\": \"M2\",\n",
    "    \"NK\": \"NK\",\n",
    "    \"Neutrophil\": \"Neutrophil\",\n",
    "    \"Other\": \"Other\",\n",
    "    \"Tumor\": \"Tumor\"\n",
    "}\n",
    "\n",
    "color_palette =['#bed8d9', '#2bb8b2', '#fed53f', '#f98866', '#fe0000']\n",
    "class_name_csv_path = '~/MAPS/cHL2_MIBI/datasets/class_names.csv'\n",
    "\n",
    "class_ids = pd.read_csv(class_name_csv_path)['class_id'].tolist()\n",
    "class_names = pd.read_csv(class_name_csv_path)['class_name'].tolist()\n",
    "class_names = [class_name_mapping[c_name] for c_name in class_names]\n",
    "\n",
    "class_id_mapping = []\n",
    "class_names_ordered = []\n",
    "for i, c_name in enumerate(class_names_all):\n",
    "    if c_name in class_names:\n",
    "        class_names_ordered.append(c_name)\n",
    "        class_id_mapping.append(class_ids[class_names.index(c_name)])"
   ],
   "metadata": {
    "collapsed": false,
    "ExecuteTime": {
     "end_time": "2023-09-01T14:17:53.779453991Z",
     "start_time": "2023-09-01T14:17:53.775398863Z"
    }
   },
   "id": "7767ecb66616f00b"
  },
  {
   "cell_type": "code",
   "execution_count": null,
   "outputs": [],
   "source": [
    "conf_matrix(result_dir, [0,1,2,3,4], class_names_ordered[:], class_id_mapping, result_csv_name='results_cHL2_MIBI_refined.csv')\n",
    "accuracy_plots(result_dir, [0,1,2,3,4], class_names_ordered[:], class_id_mapping, color_palette, result_csv_name='results_cHL2_MIBI_refined.csv')\n",
    "performance_plots(result_dir, [0,1,2,3,4], class_names_ordered[:], class_id_mapping, color_palette, result_csv_name='results_cHL2_MIBI_refined.csv')"
   ],
   "metadata": {
    "collapsed": false
   },
   "id": "7f747e05ebe06968"
  }
 ],
 "metadata": {
  "kernelspec": {
   "display_name": "Python 3",
   "language": "python",
   "name": "python3"
  },
  "language_info": {
   "codemirror_mode": {
    "name": "ipython",
    "version": 2
   },
   "file_extension": ".py",
   "mimetype": "text/x-python",
   "name": "python",
   "nbconvert_exporter": "python",
   "pygments_lexer": "ipython2",
   "version": "2.7.6"
  }
 },
 "nbformat": 4,
 "nbformat_minor": 5
}
