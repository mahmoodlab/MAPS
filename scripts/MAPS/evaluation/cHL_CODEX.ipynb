{
 "cells": [
  {
   "cell_type": "code",
   "execution_count": 4,
   "metadata": {
    "collapsed": true,
    "ExecuteTime": {
     "end_time": "2023-08-13T03:49:48.741517294Z",
     "start_time": "2023-08-13T03:49:48.693056117Z"
    }
   },
   "outputs": [],
   "source": [
    "import sys\n",
    "import pandas as pd\n",
    "import matplotlib.pyplot as plt\n",
    "\n",
    "sys.path.append('../../')\n",
    "from utils import conf_matrix, accuracy_plots, performance_plots, micro_average_pr_curve, average_pr_curve_per_class"
   ]
  },
  {
   "cell_type": "code",
   "execution_count": 5,
   "outputs": [],
   "source": [
    "class_name_csv_path = '~/MAPS/cHL_CODEX/datasets/class_names.csv'\n",
    "results_dir = '~/MAPS/cHL_CODEX/results/train_valid_test/'\n",
    "result_csv_name = 'results_test.csv'"
   ],
   "metadata": {
    "collapsed": false,
    "ExecuteTime": {
     "end_time": "2023-08-13T03:49:48.741763240Z",
     "start_time": "2023-08-13T03:49:48.738144461Z"
    }
   }
  },
  {
   "cell_type": "code",
   "execution_count": 6,
   "outputs": [],
   "source": [
    "class_names_all = ['B', 'CD4 T', 'CD4 CTL', 'CD8 T', 'DC', 'Endothelial', 'M1', 'M2', 'NK', 'Neutrophil', 'Other', 'Treg', 'Tumor', 'Epithelial', 'Granulocyte', 'Lymphatic', 'Mast', 'Monocyte', 'Macrophage', 'Plasma Cell', 'Smooth Muscle', 'Stroma']\n",
    "\n",
    "class_name_mapping = {\n",
    "    \"B\": \"B\",\n",
    "    \"CD4\": \"CD4 T\",\n",
    "    \"CD8\": \"CD8 T\",\n",
    "    \"DC\": \"DC\",\n",
    "    \"Endothelial\": \"Endothelial\",\n",
    "    \"Epithelial\": \"Epithelial\",\n",
    "    \"Lymphatic\": \"Lymphatic\",\n",
    "    \"M1\": \"M1\",\n",
    "    \"M2\": \"M2\",\n",
    "    \"Mast\": \"Mast\",\n",
    "    \"Monocyte\": \"Monocyte\",\n",
    "    \"NK\": \"NK\",\n",
    "    \"Neutrophil\": \"Neutrophil\",\n",
    "    \"Other\": \"Other\",\n",
    "    \"TReg\": \"Treg\",\n",
    "    \"Tumor\": \"Tumor\"\n",
    "}\n",
    "\n",
    "color_palette =['#bed8d9', '#2bb8b2', '#fed53f', '#f98866', '#fe0000']\n",
    "\n",
    "class_ids = pd.read_csv(class_name_csv_path)['class_id'].tolist()\n",
    "class_names = pd.read_csv(class_name_csv_path)['class_name'].tolist()\n",
    "class_names = [class_name_mapping[c_name] for c_name in class_names]\n",
    "\n",
    "class_id_mapping = []\n",
    "class_names_ordered = []\n",
    "for i, c_name in enumerate(class_names_all):\n",
    "    if c_name in class_names:\n",
    "        class_names_ordered.append(c_name)\n",
    "        class_id_mapping.append(class_ids[class_names.index(c_name)])"
   ],
   "metadata": {
    "collapsed": false,
    "ExecuteTime": {
     "end_time": "2023-08-13T03:49:48.741857298Z",
     "start_time": "2023-08-13T03:49:48.738350831Z"
    }
   }
  },
  {
   "cell_type": "markdown",
   "source": [
    "# Quantitative Results"
   ],
   "metadata": {
    "collapsed": false
   }
  },
  {
   "cell_type": "code",
   "execution_count": null,
   "outputs": [],
   "source": [
    "conf_matrix(results_dir, [0, 1, 2, 3, 4], class_names_ordered[:], class_id_mapping, result_csv_name=result_csv_name)\n",
    "accuracy_plots(results_dir, [0, 1, 2, 3, 4], class_names_ordered[:], class_id_mapping, color_palette, result_csv_name=result_csv_name)\n",
    "performance_plots(results_dir, [0, 1, 2, 3, 4], class_names_ordered[:], class_id_mapping, color_palette, result_csv_name=result_csv_name)\n",
    "micro_average_pr_curve(results_dir, [0, 1, 2, 3, 4], class_names_ordered[:], class_id_mapping, result_csv_name=result_csv_name)\n",
    "average_pr_curve_per_class(results_dir, [0, 1, 2, 3, 4], class_names_ordered[:], class_id_mapping, plt.get_cmap('tab20').colors, result_csv_name=result_csv_name)"
   ],
   "metadata": {
    "collapsed": false
   }
  }
 ],
 "metadata": {
  "kernelspec": {
   "display_name": "Python 3",
   "language": "python",
   "name": "python3"
  },
  "language_info": {
   "codemirror_mode": {
    "name": "ipython",
    "version": 2
   },
   "file_extension": ".py",
   "mimetype": "text/x-python",
   "name": "python",
   "nbconvert_exporter": "python",
   "pygments_lexer": "ipython2",
   "version": "2.7.6"
  }
 },
 "nbformat": 4,
 "nbformat_minor": 0
}
