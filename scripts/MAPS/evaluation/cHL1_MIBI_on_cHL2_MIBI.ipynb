{
 "cells": [
  {
   "cell_type": "code",
   "execution_count": 1,
   "metadata": {
    "collapsed": true,
    "ExecuteTime": {
     "end_time": "2023-08-14T16:45:32.468065905Z",
     "start_time": "2023-08-14T16:45:30.137957979Z"
    }
   },
   "outputs": [],
   "source": [
    "import os\n",
    "import sys\n",
    "import numpy as np\n",
    "import pandas as pd\n",
    "import matplotlib.pyplot as plt\n",
    "\n",
    "from cell_phenotyping import Predictor\n",
    "sys.path.append('../../')\n",
    "from utils import conf_matrix, accuracy_plots, performance_plots, micro_average_pr_curve, average_pr_curve_per_class"
   ]
  },
  {
   "cell_type": "code",
   "execution_count": 2,
   "outputs": [],
   "source": [
    "cHL2_MIBI_dataset_dir = '~/MAPS/cHL2_MIBI/datasets/'\n",
    "cHL2_MIBI_class_names = pd.read_csv(os.path.join(cHL2_MIBI_dataset_dir, 'class_names.csv'))\n",
    "cHL2_MIBI_marker_names = pd.read_csv(os.path.join(cHL2_MIBI_dataset_dir, 'marker_names.csv'))['marker_name'].tolist()\n",
    "\n",
    "cHL1_MIBI_dataset_dir = '~/MAPS/cHL1_MIBI/datasets/'\n",
    "cHL1_MIBI_checkpoint_dir = '~/MAPS/cHL1_MIBI/results/train_valid_test/'\n",
    "cHL1_MIBI_class_names = pd.read_csv(os.path.join(cHL1_MIBI_dataset_dir, 'class_names.csv'))\n",
    "cHL1_MIBI_marker_names = pd.read_csv(os.path.join(cHL1_MIBI_dataset_dir, 'marker_names.csv'))['marker_name'].tolist()\n",
    "\n",
    "color_palette =['#bed8d9', '#2bb8b2', '#fed53f', '#f98866', '#fe0000']\n",
    "result_dir = '~/MAPS/cHL1_MIBI/results/cHL2_MIBI_test/'"
   ],
   "metadata": {
    "collapsed": false,
    "ExecuteTime": {
     "end_time": "2023-08-14T16:45:33.500274610Z",
     "start_time": "2023-08-14T16:45:33.484451776Z"
    }
   }
  },
  {
   "cell_type": "markdown",
   "source": [
    "## Class Mapping"
   ],
   "metadata": {
    "collapsed": false
   }
  },
  {
   "cell_type": "code",
   "execution_count": 3,
   "outputs": [],
   "source": [
    "cHL2_MIBI_id_to_class_name_mapping = {}\n",
    "cHL2_MIBI_class_to_id_name_mapping = {}\n",
    "for i, row in cHL2_MIBI_class_names.iterrows():\n",
    "    cHL2_MIBI_id_to_class_name_mapping[row['class_id']]=row['class_name']\n",
    "    cHL2_MIBI_class_to_id_name_mapping[row['class_name']]=row['class_id']\n",
    "\n",
    "cHL1_MIBI_id_name_to_class_mapping = {}\n",
    "cHL1_MIBI_class_name_to_id_mapping = {}\n",
    "for i, row in cHL1_MIBI_class_names.iterrows():\n",
    "    cHL1_MIBI_id_name_to_class_mapping[row['class_id']]=row['class_name']\n",
    "    cHL1_MIBI_class_name_to_id_mapping[row['class_name']]=row['class_id']\n",
    "\n",
    "cHL2_MIBI_to_cHL1_MIBI_class_name_mapping = {'B': 'B', 'CD4 T': 'CD4', 'CD8 T': 'CD8', 'DC': 'DC', 'Endothelial': 'Endothelial', 'M1': 'M1', 'M2': 'M2', 'NK': 'NK', 'Neutrophil': 'Neutrophil', 'Other': 'Other', 'CD4 Treg': 'Treg', 'Tumor': 'Tumor'}\n",
    "cHL1_MIBI_to_cHL2_MIBI_class_name_mapping = {'B': 'B', 'CD4': 'CD4 T', 'CD8': 'CD8 T', 'Cytotoxic CD4': 'CD4 T', 'DC': 'DC', 'Endothelial': 'Endothelial', 'M1': 'M1', 'M2': 'M2', 'NK': 'NK', 'Neutrophil': 'Neutrophil', 'Other': 'Other', 'Treg': 'CD4 Treg', 'Tumor': 'Tumor'}\n",
    "\n",
    "cHL2_MIBI_to_cHL1_MIBI_class_id_mapping = {}\n",
    "for key in cHL2_MIBI_to_cHL1_MIBI_class_name_mapping.keys():\n",
    "    cHL2_MIBI_class_id = cHL2_MIBI_class_to_id_name_mapping[key]\n",
    "    cHL1_MIBI_class_id = cHL1_MIBI_class_name_to_id_mapping[cHL2_MIBI_to_cHL1_MIBI_class_name_mapping[key]]\n",
    "    cHL2_MIBI_to_cHL1_MIBI_class_id_mapping[cHL2_MIBI_class_id] = cHL1_MIBI_class_id\n",
    "\n",
    "cHL1_MIBI_to_cHL2_MIBI_class_id_mapping = {}\n",
    "for key in cHL1_MIBI_to_cHL2_MIBI_class_name_mapping.keys():\n",
    "    cHL1_MIBI_class_id = cHL1_MIBI_class_name_to_id_mapping[key]\n",
    "    cHL2_MIBI_class_id = cHL2_MIBI_class_to_id_name_mapping[cHL1_MIBI_to_cHL2_MIBI_class_name_mapping[key]]\n",
    "    cHL1_MIBI_to_cHL2_MIBI_class_id_mapping[cHL1_MIBI_class_id] = cHL2_MIBI_class_id"
   ],
   "metadata": {
    "collapsed": false,
    "ExecuteTime": {
     "end_time": "2023-08-14T16:45:35.669202842Z",
     "start_time": "2023-08-14T16:45:35.665548388Z"
    }
   }
  },
  {
   "cell_type": "markdown",
   "source": [
    "## Prediction on cHL2_MIBI Dataset using cHL1_MIBI Model"
   ],
   "metadata": {
    "collapsed": false
   }
  },
  {
   "cell_type": "code",
   "execution_count": 4,
   "outputs": [
    {
     "name": "stdout",
     "output_type": "stream",
     "text": [
      "Batch 1804/1804            "
     ]
    }
   ],
   "source": [
    "class_names = cHL2_MIBI_class_names['class_name'].tolist()\n",
    "res_df_cols = ['%s_prob' % class_name for class_name in class_names]\n",
    "res_df_cols.append('pred_label')\n",
    "res_df_cols.append('gt_label')\n",
    "\n",
    "fold_count = 5\n",
    "for i in range(fold_count):\n",
    "    pretrained_model_checkpoint_path = os.path.join(cHL1_MIBI_checkpoint_dir, 'fold_%d' % i, 'best_checkpoint.pt')\n",
    "    model = Predictor(model_checkpoint_path=pretrained_model_checkpoint_path, num_features=42, num_classes=13, batch_size=128, normalization=True)\n",
    "\n",
    "    train_data_path = os.path.join(cHL2_MIBI_dataset_dir, 'splits', 'fold_%d' % i, 'train.csv')\n",
    "    valid_data_path = os.path.join(cHL2_MIBI_dataset_dir, 'splits', 'fold_%d' % i, 'valid.csv')\n",
    "    test_data_path = os.path.join(cHL2_MIBI_dataset_dir, 'splits', 'fold_%d' % i, 'test.csv')\n",
    "    \n",
    "    df = pd.concat([pd.read_csv(train_data_path), pd.read_csv(valid_data_path), pd.read_csv(test_data_path)])\n",
    "    gt_labels = df['cell_label'].to_numpy()\n",
    "    for marker_name in cHL1_MIBI_marker_names:\n",
    "        if marker_name not in df.columns:\n",
    "            df[marker_name] = 0.0\n",
    "    if 'cellSize' not in cHL1_MIBI_marker_names:\n",
    "        cHL1_MIBI_marker_names.append('cellSize')\n",
    "    df = df[cHL1_MIBI_marker_names]\n",
    "    df.to_csv('test.csv', index=False)\n",
    "\n",
    "    pred_labels, pred_probs = model.predict('test.csv')\n",
    "    cHL2_MIBI_pred_labels = np.zeros((pred_probs.shape[0],))-1\n",
    "    cHL2_MIBI_pred_probs = np.zeros((pred_probs.shape[0], cHL2_MIBI_class_names.shape[0]))\n",
    "    for key in cHL1_MIBI_to_cHL2_MIBI_class_id_mapping.keys():\n",
    "        cHL1_MIBI_class_id = key\n",
    "        cHL2_MIBI_class_id = cHL1_MIBI_to_cHL2_MIBI_class_id_mapping[key]\n",
    "        cHL2_MIBI_pred_probs[:, cHL2_MIBI_class_id] =  pred_probs[:, cHL1_MIBI_class_id]\n",
    "\n",
    "        I = pred_labels==cHL1_MIBI_class_id\n",
    "        cHL2_MIBI_pred_labels[I] = cHL2_MIBI_class_id\n",
    "\n",
    "    gt_labels = np.expand_dims(gt_labels, axis=1)\n",
    "    cHL2_MIBI_pred_labels = np.expand_dims(cHL2_MIBI_pred_labels, axis=1)\n",
    "    res_df = pd.DataFrame(np.concatenate((cHL2_MIBI_pred_probs, cHL2_MIBI_pred_labels, gt_labels), axis=1), columns=res_df_cols)\n",
    "    os.makedirs(os.path.join(result_dir, 'fold_%d' % i), exist_ok=True)\n",
    "    res_df.to_csv(os.path.join(result_dir, 'fold_%d' % i, 'results_test.csv'), index=False)"
   ],
   "metadata": {
    "collapsed": false,
    "ExecuteTime": {
     "end_time": "2023-08-14T16:48:07.812434764Z",
     "start_time": "2023-08-14T16:45:38.470204919Z"
    }
   }
  },
  {
   "cell_type": "markdown",
   "source": [
    "## Evaluation"
   ],
   "metadata": {
    "collapsed": false
   }
  },
  {
   "cell_type": "code",
   "execution_count": 5,
   "outputs": [],
   "source": [
    "class_name_csv_path = '~/MAPS/cHL2_MIBI/datasets/class_names.csv'\n",
    "result_csv_name = 'results_test.csv'\n",
    "result_dir = '~/MAPS/cHL1_MIBI/results/cHL2_MIBI_test/'\n",
    "\n",
    "class_names_all = ['B', 'CD4 T', 'CD4 CTL', 'CD8 T', 'DC', 'Endothelial', 'M1', 'M2', 'NK', 'Neutrophil', 'Other', 'Treg', 'Tumor', 'Epithelial', 'Granulocyte', 'Lymphatic', 'Mast', 'Monocyte', 'Macrophage', 'Plasma Cell', 'Smooth Muscle', 'Stroma']\n",
    "\n",
    "class_name_mapping = {\n",
    "    \"B\": \"B\",\n",
    "    \"CD4 T\": \"CD4 T\",\n",
    "    \"CD4 Treg\": \"Treg\",\n",
    "    \"CD8 T\": \"CD8 T\",\n",
    "    \"DC\": \"DC\",\n",
    "    \"Endothelial\": \"Endothelial\",\n",
    "    \"M1\": \"M1\",\n",
    "    \"M2\": \"M2\",\n",
    "    \"NK\": \"NK\",\n",
    "    \"Neutrophil\": \"Neutrophil\",\n",
    "    \"Other\": \"Other\",\n",
    "    \"Tumor\": \"Tumor\"\n",
    "}\n",
    "\n",
    "color_palette =['#bed8d9', '#2bb8b2', '#fed53f', '#f98866', '#fe0000']\n",
    "\n",
    "class_ids = pd.read_csv(class_name_csv_path)['class_id'].tolist()\n",
    "class_names = pd.read_csv(class_name_csv_path)['class_name'].tolist()\n",
    "class_names = [class_name_mapping[c_name] for c_name in class_names]\n",
    "\n",
    "class_id_mapping = []\n",
    "class_names_ordered = []\n",
    "for i, c_name in enumerate(class_names_all):\n",
    "    if c_name in class_names:\n",
    "        class_names_ordered.append(c_name)\n",
    "        class_id_mapping.append(class_ids[class_names.index(c_name)])"
   ],
   "metadata": {
    "collapsed": false,
    "ExecuteTime": {
     "end_time": "2023-08-14T16:50:33.950425436Z",
     "start_time": "2023-08-14T16:50:33.902982162Z"
    }
   }
  },
  {
   "cell_type": "markdown",
   "source": [
    "### Quantitative Results"
   ],
   "metadata": {
    "collapsed": false
   }
  },
  {
   "cell_type": "code",
   "execution_count": null,
   "outputs": [],
   "source": [
    "conf_matrix(result_dir, [0, 1, 2, 3, 4], class_names_ordered[:], class_id_mapping, result_csv_name=result_csv_name)\n",
    "accuracy_plots(result_dir, [0, 1, 2, 3, 4], class_names_ordered[:], class_id_mapping, color_palette, result_csv_name=result_csv_name)\n",
    "performance_plots(result_dir, [0, 1, 2, 3, 4], class_names_ordered[:], class_id_mapping, color_palette, result_csv_name=result_csv_name)\n",
    "micro_average_pr_curve(result_dir, [0, 1, 2, 3, 4], class_names_ordered[:], class_id_mapping, result_csv_name=result_csv_name)\n",
    "average_pr_curve_per_class(result_dir, [0, 1, 2, 3, 4], class_names_ordered[:], class_id_mapping, plt.get_cmap('tab20').colors, result_csv_name=result_csv_name)"
   ],
   "metadata": {
    "collapsed": false
   }
  }
 ],
 "metadata": {
  "kernelspec": {
   "display_name": "Python 3",
   "language": "python",
   "name": "python3"
  },
  "language_info": {
   "codemirror_mode": {
    "name": "ipython",
    "version": 2
   },
   "file_extension": ".py",
   "mimetype": "text/x-python",
   "name": "python",
   "nbconvert_exporter": "python",
   "pygments_lexer": "ipython2",
   "version": "2.7.6"
  }
 },
 "nbformat": 4,
 "nbformat_minor": 0
}
